{
 "cells": [
  {
   "cell_type": "code",
   "execution_count": 1,
   "id": "26a0908e",
   "metadata": {},
   "outputs": [],
   "source": [
    "import pandas as pd\n",
    "import string\n",
    "import random\n",
    "from pandasql import sqldf"
   ]
  },
  {
   "cell_type": "code",
   "execution_count": 2,
   "id": "81038476",
   "metadata": {},
   "outputs": [],
   "source": [
    "# Function to generate dummy data for teams\n",
    "def create_teams_tbl(num_teams, team_name_len=7):\n",
    "    names = {} # Initialize dictionary\n",
    "    \n",
    "    \"\"\"\n",
    "    Generate random string for team names.\n",
    "    Range value started in 1 to satisfy the condition the first team must have ID = 1\n",
    "    \"\"\"\n",
    "    for id in range(1, num_teams + 1):\n",
    "        string_names = [] # Array for checking the existing random string names\n",
    "        \n",
    "        random_str = ''.join(random.choices(string.ascii_letters, k=team_name_len))\n",
    "        \n",
    "        #Check random string exists to ensure unique names\n",
    "        if random_str not in string_names:\n",
    "            team_name = f\"Team {random_str}\" # Combine Team and the random string\n",
    "            string_names.append(random_str)\n",
    "        \n",
    "        names[id] = team_name\n",
    "        \n",
    "    return names"
   ]
  },
  {
   "cell_type": "code",
   "execution_count": 3,
   "id": "74cbb6bd",
   "metadata": {},
   "outputs": [],
   "source": [
    "# Create number of teams\n",
    "n_teams = create_teams_tbl(20)"
   ]
  },
  {
   "cell_type": "code",
   "execution_count": 4,
   "id": "7dd79621",
   "metadata": {},
   "outputs": [
    {
     "data": {
      "text/plain": [
       "{1: 'Team ZFYRdfl',\n",
       " 2: 'Team TTNLOjb',\n",
       " 3: 'Team clXHhqJ',\n",
       " 4: 'Team PuLTlMy',\n",
       " 5: 'Team IozDjEH',\n",
       " 6: 'Team xxCYTZJ',\n",
       " 7: 'Team MNhUGKJ',\n",
       " 8: 'Team zeNgyHB',\n",
       " 9: 'Team gLDKnRu',\n",
       " 10: 'Team lHgDvZk',\n",
       " 11: 'Team OLXVBhy',\n",
       " 12: 'Team YwJmoRM',\n",
       " 13: 'Team GrqBIOA',\n",
       " 14: 'Team nzKEuQx',\n",
       " 15: 'Team MBDVTIo',\n",
       " 16: 'Team NxbxepJ',\n",
       " 17: 'Team avkZKsF',\n",
       " 18: 'Team hTrTWxw',\n",
       " 19: 'Team yXCeCXj',\n",
       " 20: 'Team XpiFjKz'}"
      ]
     },
     "execution_count": 4,
     "metadata": {},
     "output_type": "execute_result"
    }
   ],
   "source": [
    "# Show data in n_teams\n",
    "n_teams"
   ]
  },
  {
   "cell_type": "code",
   "execution_count": 5,
   "id": "c023b87f",
   "metadata": {},
   "outputs": [],
   "source": [
    "\"\"\"\n",
    "From the generated IDs and team names, specifically extract all the IDs and team names.\n",
    "The IDs and team names will be inserted into their respective arrays in order to align the format with the DataFrame.\n",
    "\"\"\"\n",
    "ids = [] # Array for the generated IDs\n",
    "team_names = [] # Array for the team names\n",
    "\n",
    "for k,v in n_teams.items():\n",
    "    ids.append(k)\n",
    "    team_names.append(v)"
   ]
  },
  {
   "cell_type": "code",
   "execution_count": 6,
   "id": "a7e6ba7a",
   "metadata": {},
   "outputs": [],
   "source": [
    "# Create a dictionary in the desired format\n",
    "data = {\n",
    "    'id': ids,\n",
    "    'name': team_names\n",
    "}"
   ]
  },
  {
   "cell_type": "code",
   "execution_count": 7,
   "id": "456a30b5",
   "metadata": {},
   "outputs": [],
   "source": [
    "# Convert dictionary into DataFrame\n",
    "df = pd.DataFrame(data)"
   ]
  },
  {
   "cell_type": "code",
   "execution_count": 8,
   "id": "647fbe3a",
   "metadata": {},
   "outputs": [
    {
     "name": "stdout",
     "output_type": "stream",
     "text": [
      " id         name\n",
      "  1 Team ZFYRdfl\n",
      "  2 Team TTNLOjb\n",
      "  3 Team clXHhqJ\n",
      "  4 Team PuLTlMy\n",
      "  5 Team IozDjEH\n",
      "  6 Team xxCYTZJ\n",
      "  7 Team MNhUGKJ\n",
      "  8 Team zeNgyHB\n",
      "  9 Team gLDKnRu\n",
      " 10 Team lHgDvZk\n",
      " 11 Team OLXVBhy\n",
      " 12 Team YwJmoRM\n",
      " 13 Team GrqBIOA\n",
      " 14 Team nzKEuQx\n",
      " 15 Team MBDVTIo\n",
      " 16 Team NxbxepJ\n",
      " 17 Team avkZKsF\n",
      " 18 Team hTrTWxw\n",
      " 19 Team yXCeCXj\n",
      " 20 Team XpiFjKz\n"
     ]
    }
   ],
   "source": [
    "# Show the DataFrame\n",
    "print(df.to_string(index=False)) "
   ]
  },
  {
   "cell_type": "code",
   "execution_count": 9,
   "id": "f71f4562",
   "metadata": {},
   "outputs": [],
   "source": [
    "# Output table for the team names into a csv file\n",
    "df.to_csv('./data/teams.csv', index=False)"
   ]
  },
  {
   "cell_type": "code",
   "execution_count": 10,
   "id": "b8f2b8ef",
   "metadata": {},
   "outputs": [
    {
     "name": "stdout",
     "output_type": "stream",
     "text": [
      "20\n"
     ]
    }
   ],
   "source": [
    "# Check the number of key-value pairs in the dictionary\n",
    "print(len(n_teams))"
   ]
  },
  {
   "cell_type": "code",
   "execution_count": 11,
   "id": "c1c1471d",
   "metadata": {},
   "outputs": [],
   "source": [
    "# Function to generate dummy data for matches\n",
    "def create_matches_tbl(team_names, num_matches):\n",
    "    unique_pairs = [] # List for  unique pairs of team to match atleast once\n",
    "    matches = [] # Array for all the matches\n",
    "    \n",
    "    # For cases that cannot generate matches\n",
    "    if num_matches <= 0 or len(team_names) < 2:\n",
    "        return []\n",
    "    \n",
    "    for i1, t1 in team_names.items():\n",
    "        for i2, t2 in team_names.items():\n",
    "            if i1 != i2:\n",
    "                if (t1, t2) not in unique_pairs and (t2, t1) not in unique_pairs:\n",
    "                    unique_pairs.append((t1,t2)) # Add team1 and team2 to the unique_pairs list\n",
    "    \n",
    "    random.shuffle(unique_pairs) # Shuffle to avoid predictable order and randomize matchup\n",
    "    \n",
    "    if num_matches <= len(unique_pairs):\n",
    "        matches = unique_pairs[:num_matches]\n",
    "    else:\n",
    "        matches = unique_pairs.copy()\n",
    "        rem_matches = num_matches - len(unique_pairs)\n",
    "        while rem_matches > 0:\n",
    "            t1, t2 = random.sample(list(team_names.values()), 2)\n",
    "            matches.append((t1, t2))\n",
    "            rem_matches -= 1\n",
    "            \n",
    "    results = [] # Array for the result\n",
    "    for match in matches:\n",
    "        t1, t2 = match\n",
    "        winner = random.choice([t1, t2]) # Randomly select the winner\n",
    "        loser = t2 if winner == t1 else t1 # Set the loser\n",
    "        results.append({\"match\": f\"{t1} vs {t2}\", \"winner\": winner, \"loser\": loser})\n",
    "    \n",
    "    # Create DataFrame from the result\n",
    "    df = pd.DataFrame(results)\n",
    "    \n",
    "    # Return DataFrame\n",
    "    return df"
   ]
  },
  {
   "cell_type": "code",
   "execution_count": 12,
   "id": "11562b12",
   "metadata": {},
   "outputs": [],
   "source": [
    "\"\"\"\n",
    "Create matches given the team names generated after executing create_teams_tbl().\n",
    "Return DataFrame as the result\n",
    "\"\"\"\n",
    "show_result = create_matches_tbl(n_teams, 200)"
   ]
  },
  {
   "cell_type": "code",
   "execution_count": 13,
   "id": "e8a06750",
   "metadata": {},
   "outputs": [
    {
     "name": "stdout",
     "output_type": "stream",
     "text": [
      "                            match        winner         loser\n",
      "0    Team GrqBIOA vs Team XpiFjKz  Team GrqBIOA  Team XpiFjKz\n",
      "1    Team ZFYRdfl vs Team zeNgyHB  Team ZFYRdfl  Team zeNgyHB\n",
      "2    Team ZFYRdfl vs Team IozDjEH  Team IozDjEH  Team ZFYRdfl\n",
      "3    Team xxCYTZJ vs Team NxbxepJ  Team NxbxepJ  Team xxCYTZJ\n",
      "4    Team gLDKnRu vs Team YwJmoRM  Team YwJmoRM  Team gLDKnRu\n",
      "..                            ...           ...           ...\n",
      "195  Team clXHhqJ vs Team hTrTWxw  Team hTrTWxw  Team clXHhqJ\n",
      "196  Team nzKEuQx vs Team NxbxepJ  Team nzKEuQx  Team NxbxepJ\n",
      "197  Team PuLTlMy vs Team IozDjEH  Team IozDjEH  Team PuLTlMy\n",
      "198  Team hTrTWxw vs Team OLXVBhy  Team hTrTWxw  Team OLXVBhy\n",
      "199  Team nzKEuQx vs Team NxbxepJ  Team nzKEuQx  Team NxbxepJ\n",
      "\n",
      "[200 rows x 3 columns]\n"
     ]
    }
   ],
   "source": [
    "# Show the overview of the result\n",
    "print(show_result)"
   ]
  },
  {
   "cell_type": "code",
   "execution_count": 14,
   "id": "a2a4c47d",
   "metadata": {},
   "outputs": [],
   "source": [
    "# Output table for the matches  into a csv file\n",
    "show_result.to_csv('./data/matches.csv', index=False)"
   ]
  },
  {
   "cell_type": "code",
   "execution_count": 15,
   "id": "8cf8c41c",
   "metadata": {},
   "outputs": [],
   "source": [
    "# Define SQL query for top 10 teams and their total number of wins\n",
    "query = \"\"\"\n",
    "SELECT\n",
    "    winner AS team,\n",
    "    COUNT(winner) AS win_count\n",
    "FROM show_result\n",
    "GROUP BY winner\n",
    "ORDER BY win_count DESC\n",
    "LIMIT 10;\n",
    "\"\"\""
   ]
  },
  {
   "cell_type": "code",
   "execution_count": 16,
   "id": "8a455c18",
   "metadata": {},
   "outputs": [],
   "source": [
    "# Execute query for the result\n",
    "top_teams = sqldf(query, locals())"
   ]
  },
  {
   "cell_type": "code",
   "execution_count": 17,
   "id": "861e0a26",
   "metadata": {},
   "outputs": [
    {
     "name": "stdout",
     "output_type": "stream",
     "text": [
      "           team  win_count\n",
      "0  Team hTrTWxw         14\n",
      "1  Team ZFYRdfl         13\n",
      "2  Team IozDjEH         13\n",
      "3  Team zeNgyHB         12\n",
      "4  Team xxCYTZJ         12\n",
      "5  Team NxbxepJ         12\n",
      "6  Team clXHhqJ         11\n",
      "7  Team PuLTlMy         11\n",
      "8  Team yXCeCXj         10\n",
      "9  Team YwJmoRM         10\n"
     ]
    }
   ],
   "source": [
    "# Show top 10 teams by wins for the 2023 season\n",
    "print(top_teams)"
   ]
  },
  {
   "cell_type": "code",
   "execution_count": 18,
   "id": "a9b6fb8d",
   "metadata": {},
   "outputs": [],
   "source": [
    "# Output table for the top teams into a csv file\n",
    "top_teams.to_csv('./data/top_teams.csv', index=False)"
   ]
  }
 ],
 "metadata": {
  "kernelspec": {
   "display_name": "Python 3 (ipykernel)",
   "language": "python",
   "name": "python3"
  },
  "language_info": {
   "codemirror_mode": {
    "name": "ipython",
    "version": 3
   },
   "file_extension": ".py",
   "mimetype": "text/x-python",
   "name": "python",
   "nbconvert_exporter": "python",
   "pygments_lexer": "ipython3",
   "version": "3.11.5"
  }
 },
 "nbformat": 4,
 "nbformat_minor": 5
}
